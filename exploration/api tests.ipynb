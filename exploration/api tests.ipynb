{
 "cells": [
  {
   "cell_type": "code",
   "execution_count": 1,
   "metadata": {},
   "outputs": [],
   "source": [
    "import sys\n",
    "sys.path.append('..')\n",
    "\n",
    "import src"
   ]
  },
  {
   "cell_type": "code",
   "execution_count": null,
   "metadata": {},
   "outputs": [],
   "source": [
    "# import src.weather\n",
    "# import src.weather.abstract_classes\n",
    "\n",
    "\n",
    "# f = src.weather.abstract_classes.AbstractForecastAPI()"
   ]
  },
  {
   "cell_type": "code",
   "execution_count": null,
   "metadata": {},
   "outputs": [
    {
     "data": {
      "text/plain": [
       "'https://api.open-meteo.com/v1/forecast?current=wind_speed_10m,wind_direction_10m,temperature_2m&latitude=53.98352777777778&longitude=-6.393583333333334&wind_speed_unit=ms'"
      ]
     },
     "execution_count": 5,
     "metadata": {},
     "output_type": "execute_result"
    }
   ],
   "source": [
    "# from src.weather.enums import WindSpeedUnit\n",
    "# from src.weather.weather_variable_enums import ForecastCurrent, ForecastHourly\n",
    "\n",
    "# dundalk_it = (53 +59/60 + 0.7/3600, -(6 + 23/60 +36.9/3600))\n",
    "# f.latitude, f.longitude = dundalk_it\n",
    "# f.wind_speed_unit = WindSpeedUnit.METERS_PER_SECOND\n",
    "# f.current = [ForecastCurrent.WIND_SPEED_10M, ForecastCurrent.WIND_DIRECTION_10M, ForecastCurrent.TEMPERATURE_2M]\n",
    "# # f.current = [ForecastCurrent.WIND_SPEED_10M, ForecastCurrent.WIND_DIRECTION_10M, ForecastHourly.TEMPERATURE_2M] # should fail\n",
    "\n",
    "# f.build_url()"
   ]
  },
  {
   "cell_type": "code",
   "execution_count": 5,
   "metadata": {},
   "outputs": [
    {
     "data": {
      "text/plain": [
       "'https://api.open-meteo.com/v1/forecast?current=wind_speed_10m,wind_direction_10m,temperature_2m&latitude=53.98352777777778&longitude=-6.393583333333334&wind_speed_unit=ms'"
      ]
     },
     "execution_count": 5,
     "metadata": {},
     "output_type": "execute_result"
    }
   ],
   "source": [
    "from src import ForecastAPI, WindSpeedUnit, ForecastCurrent\n",
    "\n",
    "\n",
    "f = ForecastAPI()\n",
    "dundalk_it = (53 +59/60 + 0.7/3600, -(6 + 23/60 +36.9/3600))\n",
    "f.latitude, f.longitude = dundalk_it\n",
    "f.wind_speed_unit = WindSpeedUnit.METERS_PER_SECOND\n",
    "f.current = [ForecastCurrent.WIND_SPEED_10M, ForecastCurrent.WIND_DIRECTION_10M, ForecastCurrent.TEMPERATURE_2M]\n",
    "\n",
    "f.build_url()"
   ]
  },
  {
   "cell_type": "code",
   "execution_count": 6,
   "metadata": {},
   "outputs": [
    {
     "data": {
      "text/plain": [
       "{'latitude': 53.990437,\n",
       " 'longitude': -6.4023438,\n",
       " 'generationtime_ms': 0.04744529724121094,\n",
       " 'utc_offset_seconds': 0,\n",
       " 'timezone': 'GMT',\n",
       " 'timezone_abbreviation': 'GMT',\n",
       " 'elevation': 16.0,\n",
       " 'current_units': {'time': 'iso8601',\n",
       "  'interval': 'seconds',\n",
       "  'wind_speed_10m': 'm/s',\n",
       "  'wind_direction_10m': '°',\n",
       "  'temperature_2m': '°C'},\n",
       " 'current': {'time': '2025-02-19T20:15',\n",
       "  'interval': 900,\n",
       "  'wind_speed_10m': 9.2,\n",
       "  'wind_direction_10m': 154,\n",
       "  'temperature_2m': 8.7}}"
      ]
     },
     "execution_count": 6,
     "metadata": {},
     "output_type": "execute_result"
    }
   ],
   "source": [
    "f.request()"
   ]
  }
 ],
 "metadata": {
  "kernelspec": {
   "display_name": "Python 3",
   "language": "python",
   "name": "python3"
  },
  "language_info": {
   "codemirror_mode": {
    "name": "ipython",
    "version": 3
   },
   "file_extension": ".py",
   "mimetype": "text/x-python",
   "name": "python",
   "nbconvert_exporter": "python",
   "pygments_lexer": "ipython3",
   "version": "3.12.1"
  }
 },
 "nbformat": 4,
 "nbformat_minor": 2
}
