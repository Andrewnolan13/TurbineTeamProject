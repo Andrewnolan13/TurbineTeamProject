{
 "cells": [
  {
   "cell_type": "code",
   "execution_count": 1,
   "metadata": {},
   "outputs": [],
   "source": [
    "import sys\n",
    "sys.path.append('..')\n",
    "\n",
    "import src"
   ]
  },
  {
   "cell_type": "code",
   "execution_count": 2,
   "metadata": {},
   "outputs": [],
   "source": [
    "import src.weather\n",
    "import src.weather.core\n",
    "\n",
    "\n",
    "f = src.weather.core.ForecastAPI()"
   ]
  },
  {
   "cell_type": "code",
   "execution_count": 21,
   "metadata": {},
   "outputs": [
    {
     "data": {
      "text/plain": [
       "base_url: https://api.open-meteo.com/v1/forecast\n",
       "current: ['wind_speed_10m', 'wind_direction_10m', 'temperature_2m']\n",
       "latitude: 53.98352777777778\n",
       "longitude: -6.393583333333334\n",
       "wind_speed_unit: ms"
      ]
     },
     "execution_count": 21,
     "metadata": {},
     "output_type": "execute_result"
    }
   ],
   "source": [
    "from src.weather.enums import WindSpeedUnit\n",
    "from src.weather.weather_variable_enums import ForecastCurrent, ForecastHourly\n",
    "\n",
    "dundalk_it = (53 +59/60 + 0.7/3600, -(6 + 23/60 +36.9/3600))\n",
    "f.latitude, f.longitude = dundalk_it\n",
    "f.wind_speed_unit = src.weather.enums.WindSpeedUnit.METERS_PER_SECOND\n",
    "f.current = [ForecastCurrent.WIND_SPEED_10M, ForecastCurrent.WIND_DIRECTION_10M, ForecastCurrent.TEMPERATURE_2M]\n",
    "# f.current = [ForecastCurrent.WIND_SPEED_10M, ForecastCurrent.WIND_DIRECTION_10M, ForecastHourly.TEMPERATURE_2M] # should fail\n",
    "\n",
    "f"
   ]
  },
  {
   "cell_type": "code",
   "execution_count": null,
   "metadata": {},
   "outputs": [],
   "source": []
  }
 ],
 "metadata": {
  "kernelspec": {
   "display_name": "Python 3",
   "language": "python",
   "name": "python3"
  },
  "language_info": {
   "codemirror_mode": {
    "name": "ipython",
    "version": 3
   },
   "file_extension": ".py",
   "mimetype": "text/x-python",
   "name": "python",
   "nbconvert_exporter": "python",
   "pygments_lexer": "ipython3",
   "version": "3.12.1"
  }
 },
 "nbformat": 4,
 "nbformat_minor": 2
}
