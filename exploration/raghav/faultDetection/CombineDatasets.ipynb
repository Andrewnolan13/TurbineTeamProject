{
 "cells": [
  {
   "cell_type": "code",
   "execution_count": 1,
   "id": "7a1f8024",
   "metadata": {},
   "outputs": [],
   "source": [
    "import pandas as pd\n",
    "import numpy as np"
   ]
  },
  {
   "cell_type": "code",
   "execution_count": 3,
   "id": "85f6c9df",
   "metadata": {},
   "outputs": [],
   "source": [
    "wt0_df1 = r'C:\\Users\\rsaxe\\Downloads\\Care_To_Compare\\Care_To_Compare\\Wind Farm A\\Wind Farm A\\datasets\\0.csv'\n",
    "wt0_df2 = r'C:\\Users\\rsaxe\\Downloads\\Care_To_Compare\\Care_To_Compare\\Wind Farm A\\Wind Farm A\\datasets\\24.csv'\n",
    "wt0_df3 = r'C:\\Users\\rsaxe\\Downloads\\Care_To_Compare\\Care_To_Compare\\Wind Farm A\\Wind Farm A\\datasets\\26.csv'\n",
    "wt0_df4 = r'C:\\Users\\rsaxe\\Downloads\\Care_To_Compare\\Care_To_Compare\\Wind Farm A\\Wind Farm A\\datasets\\71.csv'\n",
    "wt0_df5 = r'C:\\Users\\rsaxe\\Downloads\\Care_To_Compare\\Care_To_Compare\\Wind Farm A\\Wind Farm A\\datasets\\73.csv'"
   ]
  },
  {
   "cell_type": "code",
   "execution_count": 4,
   "id": "db2f753f",
   "metadata": {},
   "outputs": [],
   "source": [
    "df1= pd.read_csv(wt0_df1, sep = ';')\n",
    "df2= pd.read_csv(wt0_df2, sep = ';')\n",
    "df3= pd.read_csv(wt0_df3, sep = ';')\n",
    "df4= pd.read_csv(wt0_df4, sep = ';')\n",
    "df5= pd.read_csv(wt0_df5, sep = ';')"
   ]
  },
  {
   "cell_type": "code",
   "execution_count": 11,
   "id": "9d9376c6",
   "metadata": {},
   "outputs": [
    {
     "name": "stdout",
     "output_type": "stream",
     "text": [
      "2022-08-03 06:10:00\n",
      "2023-08-23 06:10:00\n"
     ]
    }
   ],
   "source": [
    "print(df1['time_stamp'].iloc[0])\n",
    "print(df1['time_stamp'].iloc[-1])"
   ]
  },
  {
   "cell_type": "code",
   "execution_count": 12,
   "id": "e691a3a2",
   "metadata": {},
   "outputs": [
    {
     "name": "stdout",
     "output_type": "stream",
     "text": [
      "2022-04-23 15:00:00\n",
      "2023-05-12 11:20:00\n"
     ]
    }
   ],
   "source": [
    "print(df2['time_stamp'].iloc[0])\n",
    "print(df2['time_stamp'].iloc[-1])"
   ]
  },
  {
   "cell_type": "code",
   "execution_count": 13,
   "id": "75f037a8",
   "metadata": {},
   "outputs": [
    {
     "name": "stdout",
     "output_type": "stream",
     "text": [
      "2022-10-12 10:20:00\n",
      "2023-10-22 10:20:00\n"
     ]
    }
   ],
   "source": [
    "print(df3['time_stamp'].iloc[0])\n",
    "print(df3['time_stamp'].iloc[-1])"
   ]
  },
  {
   "cell_type": "code",
   "execution_count": 14,
   "id": "0f3a52f4",
   "metadata": {},
   "outputs": [
    {
     "name": "stdout",
     "output_type": "stream",
     "text": [
      "2022-12-31 00:00:00\n",
      "2024-01-17 00:00:00\n"
     ]
    }
   ],
   "source": [
    "print(df4['time_stamp'].iloc[0])\n",
    "print(df4['time_stamp'].iloc[-1])"
   ]
  },
  {
   "cell_type": "code",
   "execution_count": 15,
   "id": "25f50e11",
   "metadata": {},
   "outputs": [
    {
     "name": "stdout",
     "output_type": "stream",
     "text": [
      "2022-06-06 11:40:00\n",
      "2023-06-18 11:40:00\n"
     ]
    }
   ],
   "source": [
    "print(df5['time_stamp'].iloc[0])\n",
    "print(df5['time_stamp'].iloc[-1])"
   ]
  },
  {
   "cell_type": "code",
   "execution_count": 18,
   "id": "b84b497c",
   "metadata": {},
   "outputs": [],
   "source": [
    "d = [{'d_id':'df1', 's_time':'2022-08-03 06:10:00', 'end_time' : '2023-08-23 06:10:00' },\n",
    "{'d_id':'df2', 's_time':'2022-04-23 15:00:00', 'end_time' : '2023-05-12 11:20:00' },\n",
    "{'d_id':'df3', 's_time':'2022-10-12 10:20:00', 'end_time' : '2023-10-22 10:20:00' },\n",
    "{'d_id':'df4', 's_time':'2022-12-31 00:00:00', 'end_time' : '2024-01-17 00:00:00' },\n",
    "{'d_id':'df5', 's_time':'2022-06-06 11:40:00', 'end_time' : '2023-06-18 11:40:00' }]\n"
   ]
  },
  {
   "cell_type": "code",
   "execution_count": 19,
   "id": "bfde1831",
   "metadata": {},
   "outputs": [
    {
     "name": "stdout",
     "output_type": "stream",
     "text": [
      "  d_id              s_time            end_time\n",
      "0  df1 2022-08-03 06:10:00 2023-08-23 06:10:00\n",
      "1  df2 2022-04-23 15:00:00 2023-05-12 11:20:00\n",
      "2  df3 2022-10-12 10:20:00 2023-10-22 10:20:00\n",
      "3  df4 2022-12-31 00:00:00 2024-01-17 00:00:00\n",
      "4  df5 2022-06-06 11:40:00 2023-06-18 11:40:00\n"
     ]
    }
   ],
   "source": [
    "# Convert to DataFrame\n",
    "df = pd.DataFrame(d)\n",
    "\n",
    "# Convert 's_time' and 'end_time' to datetime format\n",
    "df['s_time'] = pd.to_datetime(df['s_time'])\n",
    "df['end_time'] = pd.to_datetime(df['end_time'])\n",
    "\n",
    "# Display DataFrame\n",
    "print(df)"
   ]
  },
  {
   "cell_type": "code",
   "execution_count": 21,
   "id": "977673d4",
   "metadata": {},
   "outputs": [],
   "source": [
    "df = df.sort_values(by='s_time')\n"
   ]
  },
  {
   "cell_type": "code",
   "execution_count": 22,
   "id": "54488d47",
   "metadata": {},
   "outputs": [
    {
     "data": {
      "text/html": [
       "<div>\n",
       "<style scoped>\n",
       "    .dataframe tbody tr th:only-of-type {\n",
       "        vertical-align: middle;\n",
       "    }\n",
       "\n",
       "    .dataframe tbody tr th {\n",
       "        vertical-align: top;\n",
       "    }\n",
       "\n",
       "    .dataframe thead th {\n",
       "        text-align: right;\n",
       "    }\n",
       "</style>\n",
       "<table border=\"1\" class=\"dataframe\">\n",
       "  <thead>\n",
       "    <tr style=\"text-align: right;\">\n",
       "      <th></th>\n",
       "      <th>d_id</th>\n",
       "      <th>s_time</th>\n",
       "      <th>end_time</th>\n",
       "    </tr>\n",
       "  </thead>\n",
       "  <tbody>\n",
       "    <tr>\n",
       "      <th>1</th>\n",
       "      <td>df2</td>\n",
       "      <td>2022-04-23 15:00:00</td>\n",
       "      <td>2023-05-12 11:20:00</td>\n",
       "    </tr>\n",
       "    <tr>\n",
       "      <th>4</th>\n",
       "      <td>df5</td>\n",
       "      <td>2022-06-06 11:40:00</td>\n",
       "      <td>2023-06-18 11:40:00</td>\n",
       "    </tr>\n",
       "    <tr>\n",
       "      <th>0</th>\n",
       "      <td>df1</td>\n",
       "      <td>2022-08-03 06:10:00</td>\n",
       "      <td>2023-08-23 06:10:00</td>\n",
       "    </tr>\n",
       "    <tr>\n",
       "      <th>2</th>\n",
       "      <td>df3</td>\n",
       "      <td>2022-10-12 10:20:00</td>\n",
       "      <td>2023-10-22 10:20:00</td>\n",
       "    </tr>\n",
       "    <tr>\n",
       "      <th>3</th>\n",
       "      <td>df4</td>\n",
       "      <td>2022-12-31 00:00:00</td>\n",
       "      <td>2024-01-17 00:00:00</td>\n",
       "    </tr>\n",
       "  </tbody>\n",
       "</table>\n",
       "</div>"
      ],
      "text/plain": [
       "  d_id              s_time            end_time\n",
       "1  df2 2022-04-23 15:00:00 2023-05-12 11:20:00\n",
       "4  df5 2022-06-06 11:40:00 2023-06-18 11:40:00\n",
       "0  df1 2022-08-03 06:10:00 2023-08-23 06:10:00\n",
       "2  df3 2022-10-12 10:20:00 2023-10-22 10:20:00\n",
       "3  df4 2022-12-31 00:00:00 2024-01-17 00:00:00"
      ]
     },
     "execution_count": 22,
     "metadata": {},
     "output_type": "execute_result"
    }
   ],
   "source": [
    "df"
   ]
  },
  {
   "cell_type": "code",
   "execution_count": null,
   "id": "47763331",
   "metadata": {},
   "outputs": [],
   "source": []
  }
 ],
 "metadata": {
  "kernelspec": {
   "display_name": "Python 3 (ipykernel)",
   "language": "python",
   "name": "python3"
  },
  "language_info": {
   "codemirror_mode": {
    "name": "ipython",
    "version": 3
   },
   "file_extension": ".py",
   "mimetype": "text/x-python",
   "name": "python",
   "nbconvert_exporter": "python",
   "pygments_lexer": "ipython3",
   "version": "3.9.19"
  }
 },
 "nbformat": 4,
 "nbformat_minor": 5
}
