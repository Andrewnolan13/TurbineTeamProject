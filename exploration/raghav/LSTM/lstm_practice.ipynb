{
 "cells": [
  {
   "cell_type": "code",
   "execution_count": 1,
   "metadata": {},
   "outputs": [
    {
     "name": "stderr",
     "output_type": "stream",
     "text": [
      "c:\\Users\\rsaxe\\.conda\\envs\\yolov8\\lib\\site-packages\\tqdm\\auto.py:21: TqdmWarning: IProgress not found. Please update jupyter and ipywidgets. See https://ipywidgets.readthedocs.io/en/stable/user_install.html\n",
      "  from .autonotebook import tqdm as notebook_tqdm\n"
     ]
    }
   ],
   "source": [
    "import pandas as pd\n",
    "import numpy as np\n",
    "import matplotlib.pyplot as plt\n",
    "from sklearn.preprocessing import MinMaxScaler\n",
    "import torch\n",
    "import torch.nn as nn\n",
    "from torch.utils.data import DataLoader, TensorDataset\n",
    "\n"
   ]
  },
  {
   "cell_type": "code",
   "execution_count": 2,
   "metadata": {},
   "outputs": [
    {
     "name": "stdout",
     "output_type": "stream",
     "text": [
      "         x1        x2        x3        x4         y\n",
      "0  0.156083  0.944126  0.031287  0.933191  1.107611\n",
      "1  0.261743  1.008343  0.071159  1.029584  1.220628\n",
      "2  0.241827  0.999943  0.103662  1.006220  1.269037\n",
      "3  0.388077  0.879201  0.193663  0.941076  1.156001\n",
      "4  0.494463  0.874472  0.313309  1.048023  1.173761\n"
     ]
    }
   ],
   "source": [
    "\n",
    "# Example data for demonstration\n",
    "time_steps = np.arange(1, 101)\n",
    "x1 = np.sin(time_steps * 0.1) + np.random.normal(0, 0.05, 100)\n",
    "x2 = np.cos(time_steps * 0.1) + np.random.normal(0, 0.05, 100)\n",
    "x3 = np.sin(time_steps * 0.05) + np.random.normal(0, 0.05, 100)\n",
    "x4 = np.cos(time_steps * 0.05) + np.random.normal(0, 0.05, 100)\n",
    "y = np.sin(time_steps * 0.1) + np.cos(time_steps * 0.1) + np.random.normal(0, 0.1, 100)\n",
    "\n",
    "# Combine into a dataframe\n",
    "data = pd.DataFrame({'x1': x1, 'x2': x2, 'x3': x3, 'x4': x4, 'y': y})\n",
    "\n",
    "# Display first few rows\n",
    "print(data.head())\n"
   ]
  },
  {
   "cell_type": "code",
   "execution_count": 3,
   "metadata": {},
   "outputs": [],
   "source": [
    "def create_sequences_multivariate(data, seq_length):\n",
    "    sequences = []\n",
    "    labels = []\n",
    "    \n",
    "    for i in range(len(data) - seq_length):\n",
    "        # Extract sequences of features (x1, x2, x3, x4) for `seq_length` time steps\n",
    "        seq = data.iloc[i:i+seq_length, :-1].values  # All columns except target 'y'\n",
    "        label = data.iloc[i+seq_length, -1]  # The target column 'y'\n",
    "        \n",
    "        sequences.append(seq)\n",
    "        labels.append(label)\n",
    "\n",
    "    return np.array(sequences), np.array(labels)\n"
   ]
  },
  {
   "cell_type": "code",
   "execution_count": 4,
   "metadata": {},
   "outputs": [
    {
     "name": "stdout",
     "output_type": "stream",
     "text": [
      "Shape of X: (90, 10, 4)\n",
      "Shape of y: (90,)\n"
     ]
    }
   ],
   "source": [
    "# Define sequence length\n",
    "seq_length = 10\n",
    "\n",
    "# Create sequences and labels\n",
    "X, y = create_sequences_multivariate(data, seq_length)\n",
    "\n",
    "print(\"Shape of X:\", X.shape)  # Expected: (num_samples, seq_length, num_features)\n",
    "print(\"Shape of y:\", y.shape)  # Expected: (num_samples,)\n"
   ]
  },
  {
   "cell_type": "code",
   "execution_count": 8,
   "metadata": {},
   "outputs": [
    {
     "name": "stdout",
     "output_type": "stream",
     "text": [
      "Shape of X_tensor: torch.Size([90, 10, 4])\n",
      "Shape of y_tensor: torch.Size([90])\n"
     ]
    }
   ],
   "source": [
    "\n",
    "\n",
    "# Convert to PyTorch tensors\n",
    "X_tensor = torch.FloatTensor(X)\n",
    "y_tensor = torch.FloatTensor(y)\n",
    "\n",
    "print(\"Shape of X_tensor:\", X_tensor.shape)  # (num_samples, seq_length, num_features)\n",
    "print(\"Shape of y_tensor:\", y_tensor.shape)  # (num_samples,)\n"
   ]
  },
  {
   "cell_type": "code",
   "execution_count": 9,
   "metadata": {},
   "outputs": [
    {
     "name": "stdout",
     "output_type": "stream",
     "text": [
      "Training samples: 72\n",
      "Testing samples: 18\n"
     ]
    }
   ],
   "source": [
    "from sklearn.model_selection import train_test_split\n",
    "\n",
    "X_train, X_test, y_train, y_test = train_test_split(X_tensor, y_tensor, test_size=0.2, random_state=42)\n",
    "\n",
    "print(f\"Training samples: {X_train.shape[0]}\")\n",
    "print(f\"Testing samples: {X_test.shape[0]}\")\n"
   ]
  },
  {
   "cell_type": "code",
   "execution_count": 10,
   "metadata": {},
   "outputs": [],
   "source": [
    "class LSTMModel(nn.Module):\n",
    "    def __init__(self, input_size=4, hidden_size=64, num_layers=2, output_size=1):\n",
    "        super(LSTMModel, self).__init__()\n",
    "        self.hidden_size = hidden_size\n",
    "        self.num_layers = num_layers\n",
    "\n",
    "        # LSTM layer\n",
    "        self.lstm = nn.LSTM(input_size, hidden_size, num_layers, batch_first=True)\n",
    "\n",
    "        # Fully connected layer\n",
    "        self.fc = nn.Linear(hidden_size, output_size)\n",
    "\n",
    "    def forward(self, x):\n",
    "        h0 = torch.zeros(self.num_layers, x.size(0), self.hidden_size).to(x.device)\n",
    "        c0 = torch.zeros(self.num_layers, x.size(0), self.hidden_size).to(x.device)\n",
    "\n",
    "        # LSTM forward pass\n",
    "        out, _ = self.lstm(x, (h0, c0))\n",
    "        \n",
    "        # Output from last time step\n",
    "        out = self.fc(out[:, -1, :])  \n",
    "        return out\n"
   ]
  },
  {
   "cell_type": "code",
   "execution_count": null,
   "metadata": {},
   "outputs": [],
   "source": []
  }
 ],
 "metadata": {
  "kernelspec": {
   "display_name": "Python 3",
   "language": "python",
   "name": "python3"
  },
  "language_info": {
   "codemirror_mode": {
    "name": "ipython",
    "version": 3
   },
   "file_extension": ".py",
   "mimetype": "text/x-python",
   "name": "python",
   "nbconvert_exporter": "python",
   "pygments_lexer": "ipython3",
   "version": "3.9.19"
  }
 },
 "nbformat": 4,
 "nbformat_minor": 2
}
