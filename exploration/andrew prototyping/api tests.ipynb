{
 "cells": [
  {
   "cell_type": "code",
   "execution_count": 5,
   "metadata": {},
   "outputs": [
    {
     "data": {
      "text/plain": [
       "'h:\\\\Desktop1123\\\\MSc\\\\TurbineTeamProject\\\\data\\\\database.db'"
      ]
     },
     "execution_count": 5,
     "metadata": {},
     "output_type": "execute_result"
    }
   ],
   "source": [
    "import sys\n",
    "sys.path.append('../..')\n",
    "\n",
    "import src\n"
   ]
  },
  {
   "cell_type": "code",
   "execution_count": 6,
   "metadata": {},
   "outputs": [
    {
     "data": {
      "text/plain": [
       "'https://archive-api.open-meteo.com/v1/archive?end_date=2025-02-20&hourly=temperature_2m,relative_humidity_2m,precipitation,wind_speed_10m,wind_direction_10m,wind_speed_100m,wind_direction_100m&latitude=53.98352&longitude=-6.39139&start_date=2000-01-01&wind_speed_unit=ms'"
      ]
     },
     "execution_count": 6,
     "metadata": {},
     "output_type": "execute_result"
    }
   ],
   "source": [
    "from src import WindSpeedUnit, HistoricalHourly, HistoricalAPI\n",
    "import datetime as dt\n",
    "\n",
    "f = HistoricalAPI()\n",
    "dundalk_it = (53.98352, -6.391390) #https://data.mendeley.com/datasets/tm988rs48k/2\n",
    "f.latitude, f.longitude = dundalk_it\n",
    "f.wind_speed_unit = WindSpeedUnit.METERS_PER_SECOND\n",
    "# f.current = [ForecastCurrent.WIND_SPEED_10M, ForecastCurrent.WIND_DIRECTION_10M, ForecastCurrent.TEMPERATURE_2M]\n",
    "f.hourly = [HistoricalHourly.TEMPERATURE_2M,\n",
    "            HistoricalHourly.RELATIVE_HUMIDITY_2M, \n",
    "            HistoricalHourly.PRECIPITATION,\n",
    "            HistoricalHourly.WIND_SPEED_10M,\n",
    "            HistoricalHourly.WIND_DIRECTION_10M,\n",
    "            HistoricalHourly.WIND_SPEED_100M,\n",
    "            HistoricalHourly.WIND_DIRECTION_100M]\n",
    "f.start_date = dt.datetime(2000, 1, 1)\n",
    "f.end_date = dt.datetime(2025, 2, 20) \n",
    "\n",
    "f.build_url()\n",
    "result = f.request()\n"
   ]
  },
  {
   "cell_type": "code",
   "execution_count": 20,
   "metadata": {},
   "outputs": [
    {
     "name": "stdout",
     "output_type": "stream",
     "text": [
      "latitude 53.954304\n",
      "longitude -6.4410095\n",
      "generationtime_ms 9705.280303955078\n",
      "utc_offset_seconds 0\n",
      "timezone GMT\n",
      "timezone_abbreviation GMT\n",
      "elevation 15.0\n",
      "hourly_units ['time', 'temperature_2m', 'relative_humidity_2m', 'precipitation', 'wind_speed_10m', 'wind_direction_10m', 'wind_speed_100m', 'wind_direction_100m']\n",
      "hourly ['time', 'temperature_2m', 'relative_humidity_2m', 'precipitation', 'wind_speed_10m', 'wind_direction_10m', 'wind_speed_100m', 'wind_direction_100m']\n"
     ]
    }
   ],
   "source": [
    "for k,v in result.items():\n",
    "    print(k,end = '')\n",
    "    if isinstance(v, list):\n",
    "        print('',v[:5],end='')\n",
    "    elif isinstance(v, dict):\n",
    "        print('',list(v.keys()),end='')\n",
    "    else:\n",
    "        print('',v,end='')\n",
    "    print()"
   ]
  },
  {
   "cell_type": "code",
   "execution_count": 7,
   "metadata": {},
   "outputs": [],
   "source": [
    "import pandas as pd\n",
    "import sqlite3\n",
    "from copy import deepcopy\n",
    "\n",
    "metadata = dict()\n",
    "response = deepcopy(result)\n",
    "\n",
    "for k,v in result.items():\n",
    "    if not isinstance(v, (list,dict)):\n",
    "        metadata[k] = response.pop(k)\n",
    "\n",
    "df = pd.DataFrame(response['hourly'])\n",
    "for k,v in metadata.items():\n",
    "    if k == 'generationtime_ms':\n",
    "        continue\n",
    "    df[k] = v\n",
    "\n",
    "df = df.dropna()"
   ]
  },
  {
   "cell_type": "code",
   "execution_count": 35,
   "metadata": {},
   "outputs": [],
   "source": [
    "df.to_pickle('historical.pkl')"
   ]
  },
  {
   "cell_type": "code",
   "execution_count": 8,
   "metadata": {},
   "outputs": [],
   "source": [
    "Raw_df = pd.read_pickle('historical.pkl')"
   ]
  },
  {
   "cell_type": "code",
   "execution_count": 9,
   "metadata": {},
   "outputs": [],
   "source": [
    "'''\n",
    "time                       {'str': 220345}\n",
    "temperature_2m           {'float': 220345}\n",
    "relative_humidity_2m     {'float': 220345}\n",
    "precipitation            {'float': 220345}\n",
    "wind_speed_10m           {'float': 220345}\n",
    "wind_direction_10m       {'float': 220345}\n",
    "wind_speed_100m          {'float': 220345}\n",
    "wind_direction_100m      {'float': 220345}\n",
    "latitude                 {'float': 220345}\n",
    "longitude                {'float': 220345}\n",
    "utc_offset_seconds         {'int': 220345}\n",
    "timezone                   {'str': 220345}\n",
    "timezone_abbreviation      {'str': 220345}\n",
    "elevation                {'float': 220345}\n",
    "'''\n",
    "df = Raw_df.copy()\n",
    "df.time = pd.to_datetime(df.time,format = '%Y-%m-%dT%H:%M').astype('str')\n",
    "\n",
    "# make sqlite file with the above fields and datatypes. Table name is historical weather data\n",
    "conn = sqlite3.connect(src.SOURCE.DATA.DB.str)\n",
    "\n",
    "cursor = conn.cursor()\n",
    "# enable Write Ahead Logging (WAL) mode\n",
    "cursor.execute(\"PRAGMA journal_mode=WAL;\")\n",
    "\n",
    "# make if not exists\n",
    "COMMAND = '''\n",
    "CREATE TABLE IF NOT EXISTS historical_weather_data (\n",
    "    ID INTEGER PRIMARY KEY AUTOINCREMENT,\n",
    "    time TEXT,\n",
    "    temperature_2m REAL,\n",
    "    relative_humidity_2m REAL,\n",
    "    precipitation REAL,\n",
    "    wind_speed_10m REAL,\n",
    "    wind_direction_10m REAL,\n",
    "    wind_speed_100m REAL,\n",
    "    wind_direction_100m REAL,\n",
    "    latitude REAL,\n",
    "    longitude REAL,\n",
    "    utc_offset_seconds INTEGER,\n",
    "    timezone TEXT,\n",
    "    timezone_abbreviation TEXT,\n",
    "    elevation REAL\n",
    ");\n",
    "'''\n",
    "\n",
    "cursor.execute(COMMAND)\n",
    "conn.commit()\n"
   ]
  },
  {
   "cell_type": "code",
   "execution_count": 10,
   "metadata": {},
   "outputs": [
    {
     "data": {
      "text/plain": [
       "220345"
      ]
     },
     "execution_count": 10,
     "metadata": {},
     "output_type": "execute_result"
    }
   ],
   "source": [
    "df.to_sql('historical_weather_data', conn, if_exists='append', index = False)"
   ]
  }
 ],
 "metadata": {
  "kernelspec": {
   "display_name": "Python 3",
   "language": "python",
   "name": "python3"
  },
  "language_info": {
   "codemirror_mode": {
    "name": "ipython",
    "version": 3
   },
   "file_extension": ".py",
   "mimetype": "text/x-python",
   "name": "python",
   "nbconvert_exporter": "python",
   "pygments_lexer": "ipython3",
   "version": "3.12.0"
  }
 },
 "nbformat": 4,
 "nbformat_minor": 2
}
