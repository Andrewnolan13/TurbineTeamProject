{
 "cells": [
  {
   "cell_type": "code",
   "execution_count": 7,
   "metadata": {},
   "outputs": [
    {
     "name": "stdout",
     "output_type": "stream",
     "text": [
      "Remaining: {'daily': 9996.0, 'hourly': 4996.0, 'minutely': 600}\n",
      "API counts: 1.0\n"
     ]
    },
    {
     "data": {
      "text/plain": [
       "{'latitude': 53.990437,\n",
       " 'longitude': -6.4023438,\n",
       " 'generationtime_ms': 0.023126602172851562,\n",
       " 'utc_offset_seconds': 0,\n",
       " 'timezone': 'GMT',\n",
       " 'timezone_abbreviation': 'GMT',\n",
       " 'elevation': 15.0,\n",
       " 'current_units': {'time': 'iso8601',\n",
       "  'interval': 'seconds',\n",
       "  'wind_direction_10m': '°'},\n",
       " 'current': {'time': '2025-02-20T19:30',\n",
       "  'interval': 900,\n",
       "  'wind_direction_10m': 197}}"
      ]
     },
     "execution_count": 7,
     "metadata": {},
     "output_type": "execute_result"
    }
   ],
   "source": [
    "import sys\n",
    "sys.path.append('../..')\n",
    "from src import WindSpeedUnit, ForecastAPI, ForecastCurrent\n",
    "import src\n",
    "\n",
    "f = ForecastAPI()\n",
    "f.latitude, f.longitude = src.GEO_COORDINATES.DUNDALK_IT.value\n",
    "f.wind_speed_unit = WindSpeedUnit.METERS_PER_SECOND\n",
    "f.current = [ForecastCurrent.WIND_DIRECTION_10M]\n",
    "\n",
    "f.request()"
   ]
  },
  {
   "cell_type": "code",
   "execution_count": 3,
   "metadata": {},
   "outputs": [
    {
     "data": {
      "text/html": [
       "<div>\n",
       "<style scoped>\n",
       "    .dataframe tbody tr th:only-of-type {\n",
       "        vertical-align: middle;\n",
       "    }\n",
       "\n",
       "    .dataframe tbody tr th {\n",
       "        vertical-align: top;\n",
       "    }\n",
       "\n",
       "    .dataframe thead th {\n",
       "        text-align: right;\n",
       "    }\n",
       "</style>\n",
       "<table border=\"1\" class=\"dataframe\">\n",
       "  <thead>\n",
       "    <tr style=\"text-align: right;\">\n",
       "      <th></th>\n",
       "      <th>id</th>\n",
       "      <th>url</th>\n",
       "      <th>call_weight</th>\n",
       "      <th>timestamp</th>\n",
       "    </tr>\n",
       "  </thead>\n",
       "  <tbody>\n",
       "    <tr>\n",
       "      <th>0</th>\n",
       "      <td>1</td>\n",
       "      <td>https://api.open-meteo.com/v1/forecast?current...</td>\n",
       "      <td>1.0</td>\n",
       "      <td>2025-02-20 19:03:04</td>\n",
       "    </tr>\n",
       "    <tr>\n",
       "      <th>1</th>\n",
       "      <td>2</td>\n",
       "      <td>https://api.open-meteo.com/v1/forecast?current...</td>\n",
       "      <td>1.0</td>\n",
       "      <td>2025-02-20 19:03:42</td>\n",
       "    </tr>\n",
       "    <tr>\n",
       "      <th>2</th>\n",
       "      <td>3</td>\n",
       "      <td>https://api.open-meteo.com/v1/forecast?current...</td>\n",
       "      <td>1.0</td>\n",
       "      <td>2025-02-20 19:06:22</td>\n",
       "    </tr>\n",
       "    <tr>\n",
       "      <th>3</th>\n",
       "      <td>4</td>\n",
       "      <td>https://api.open-meteo.com/v1/forecast?current...</td>\n",
       "      <td>1.0</td>\n",
       "      <td>2025-02-20 19:09:55</td>\n",
       "    </tr>\n",
       "  </tbody>\n",
       "</table>\n",
       "</div>"
      ],
      "text/plain": [
       "   id                                                url  call_weight  \\\n",
       "0   1  https://api.open-meteo.com/v1/forecast?current...          1.0   \n",
       "1   2  https://api.open-meteo.com/v1/forecast?current...          1.0   \n",
       "2   3  https://api.open-meteo.com/v1/forecast?current...          1.0   \n",
       "3   4  https://api.open-meteo.com/v1/forecast?current...          1.0   \n",
       "\n",
       "             timestamp  \n",
       "0  2025-02-20 19:03:04  \n",
       "1  2025-02-20 19:03:42  \n",
       "2  2025-02-20 19:06:22  \n",
       "3  2025-02-20 19:09:55  "
      ]
     },
     "execution_count": 3,
     "metadata": {},
     "output_type": "execute_result"
    }
   ],
   "source": [
    "import pandas as pd\n",
    "pd.read_sql_query('SELECT * FROM REQUESTS', f._conn) "
   ]
  },
  {
   "cell_type": "code",
   "execution_count": 5,
   "metadata": {},
   "outputs": [
    {
     "data": {
      "text/plain": [
       "{'daily': 9996.0, 'hourly': 4996.0, 'minutely': 600}"
      ]
     },
     "execution_count": 5,
     "metadata": {},
     "output_type": "execute_result"
    }
   ],
   "source": [
    "src.weather.utils.RequestLogger.queryRemaining(f._conn)"
   ]
  },
  {
   "cell_type": "code",
   "execution_count": 17,
   "metadata": {},
   "outputs": [
    {
     "data": {
      "text/plain": [
       "7437.685714285714"
      ]
     },
     "execution_count": 17,
     "metadata": {},
     "output_type": "execute_result"
    }
   ],
   "source": [
    "url = 'https://archive-api.open-meteo.com/v1/archive?latitude=52.52&longitude=13.41&latitude=52.52&longitude=13.41&start_date=2000-02-17&end_date=2025-02-19&hourly=temperature_2m,relative_humidity_2m,dew_point_2m,apparent_temperature,precipitation,rain,snowfall,snow_depth,weather_code,pressure_msl,surface_pressure,cloud_cover,cloud_cover_low,cloud_cover_mid,cloud_cover_high,et0_fao_evapotranspiration,vapour_pressure_deficit,wind_speed_10m,wind_speed_100m,wind_direction_10m,wind_direction_100m,wind_gusts_10m,soil_temperature_0_to_7cm,soil_temperature_7_to_28cm,soil_temperature_28_to_100cm,soil_temperature_100_to_255cm,soil_moisture_0_to_7cm,soil_moisture_7_to_28cm,soil_moisture_28_to_100cm,soil_moisture_100_to_255cm,boundary_layer_height,wet_bulb_temperature_2m,total_column_integrated_water_vapour,is_day,sunshine_duration,albedo,snow_depth_water_equivalent&daily=weather_code,temperature_2m_max,temperature_2m_min,temperature_2m_mean,apparent_temperature_max,apparent_temperature_min,apparent_temperature_mean,sunrise,sunset,daylight_duration,sunshine_duration,precipitation_sum,rain_sum,snowfall_sum,precipitation_hours,wind_speed_10m_max,wind_gusts_10m_max,wind_direction_10m_dominant,shortwave_radiation_sum,et0_fao_evapotranspiration&wind_speed_unit=ms&timezone=auto'\n",
    "src.weather.utils.ApiCounter.calculate_call_weight_from_url(url) #3718.842 is the answer. It's wrong though."
   ]
  },
  {
   "cell_type": "code",
   "execution_count": 16,
   "metadata": {},
   "outputs": [
    {
     "data": {
      "text/plain": [
       "{'start_date': '2000-02-17',\n",
       " 'end_date': '2025-02-19',\n",
       " 'hourly': ['temperature_2m',\n",
       "  'relative_humidity_2m',\n",
       "  'dew_point_2m',\n",
       "  'apparent_temperature',\n",
       "  'precipitation',\n",
       "  'rain',\n",
       "  'snowfall',\n",
       "  'snow_depth',\n",
       "  'weather_code',\n",
       "  'pressure_msl',\n",
       "  'surface_pressure',\n",
       "  'cloud_cover',\n",
       "  'cloud_cover_low',\n",
       "  'cloud_cover_mid',\n",
       "  'cloud_cover_high',\n",
       "  'et0_fao_evapotranspiration',\n",
       "  'vapour_pressure_deficit',\n",
       "  'wind_speed_10m',\n",
       "  'wind_speed_100m',\n",
       "  'wind_direction_10m',\n",
       "  'wind_direction_100m',\n",
       "  'wind_gusts_10m',\n",
       "  'soil_temperature_0_to_7cm',\n",
       "  'soil_temperature_7_to_28cm',\n",
       "  'soil_temperature_28_to_100cm',\n",
       "  'soil_temperature_100_to_255cm',\n",
       "  'soil_moisture_0_to_7cm',\n",
       "  'soil_moisture_7_to_28cm',\n",
       "  'soil_moisture_28_to_100cm',\n",
       "  'soil_moisture_100_to_255cm',\n",
       "  'boundary_layer_height',\n",
       "  'wet_bulb_temperature_2m',\n",
       "  'total_column_integrated_water_vapour',\n",
       "  'is_day',\n",
       "  'sunshine_duration',\n",
       "  'albedo',\n",
       "  'snow_depth_water_equivalent'],\n",
       " 'daily': ['weather_code',\n",
       "  'temperature_2m_max',\n",
       "  'temperature_2m_min',\n",
       "  'temperature_2m_mean',\n",
       "  'apparent_temperature_max',\n",
       "  'apparent_temperature_min',\n",
       "  'apparent_temperature_mean',\n",
       "  'sunrise',\n",
       "  'sunset',\n",
       "  'daylight_duration',\n",
       "  'sunshine_duration',\n",
       "  'precipitation_sum',\n",
       "  'rain_sum',\n",
       "  'snowfall_sum',\n",
       "  'precipitation_hours',\n",
       "  'wind_speed_10m_max',\n",
       "  'wind_gusts_10m_max',\n",
       "  'wind_direction_10m_dominant',\n",
       "  'shortwave_radiation_sum',\n",
       "  'et0_fao_evapotranspiration'],\n",
       " 'latitude': [2.0, 52.52],\n",
       " 'longitude': [2.0, 13.41]}"
      ]
     },
     "execution_count": 16,
     "metadata": {},
     "output_type": "execute_result"
    }
   ],
   "source": [
    "src.weather.utils.ApiCounter.parse_url_params(url)"
   ]
  },
  {
   "cell_type": "code",
   "execution_count": null,
   "metadata": {},
   "outputs": [
    {
     "data": {
      "text/plain": [
       "'https://archive-api.open-meteo.com/v1/archive?latitude=52.52&longitude=13.41&start_date=2000-02-17&end_date=2025-02-19&hourly=temperature_2m,relative_humidity_2m,dew_point_2m,apparent_temperature,precipitation,rain,snowfall,snow_depth,weather_code,pressure_msl,surface_pressure,cloud_cover,cloud_cover_low,cloud_cover_mid,cloud_cover_high,et0_fao_evapotranspiration,vapour_pressure_deficit,wind_speed_10m,wind_speed_100m,wind_direction_10m,wind_direction_100m,wind_gusts_10m,soil_temperature_0_to_7cm,soil_temperature_7_to_28cm,soil_temperature_28_to_100cm,soil_temperature_100_to_255cm,soil_moisture_0_to_7cm,soil_moisture_7_to_28cm,soil_moisture_28_to_100cm,soil_moisture_100_to_255cm,boundary_layer_height,wet_bulb_temperature_2m,total_column_integrated_water_vapour,is_day,sunshine_duration,albedo,snow_depth_water_equivalent&daily=weather_code,temperature_2m_max,temperature_2m_min,temperature_2m_mean,apparent_temperature_max,apparent_temperature_min,apparent_temperature_mean,sunrise,sunset,daylight_duration,sunshine_duration,precipitation_sum,rain_sum,snowfall_sum,precipitation_hours,wind_speed_10m_max,wind_gusts_10m_max,wind_direction_10m_dominant,shortwave_radiation_sum,et0_fao_evapotranspiration&wind_speed_unit=ms&timezone=auto'"
      ]
     },
     "execution_count": 4,
     "metadata": {},
     "output_type": "execute_result"
    }
   ],
   "source": [
    "'''\n",
    "https://archive-api.open-meteo.com/v1/archive\n",
    "    ?latitude=52.52\n",
    "    &longitude=13.41\n",
    "    &start_date=2000-02-17\n",
    "    &end_date=2025-02-19\n",
    "    &hourly=temperature_2m,relative_humidity_2m,dew_point_2m,apparent_temperature,precipitation,rain,snowfall,snow_depth,weather_code,pressure_msl,surface_pressure,cloud_cover,cloud_cover_low,cloud_cover_mid,cloud_cover_high,et0_fao_evapotranspiration,vapour_pressure_deficit,wind_speed_10m,wind_speed_100m,wind_direction_10m,wind_direction_100m,wind_gusts_10m,soil_temperature_0_to_7cm,soil_temperature_7_to_28cm,soil_temperature_28_to_100cm,soil_temperature_100_to_255cm,soil_moisture_0_to_7cm,soil_moisture_7_to_28cm,soil_moisture_28_to_100cm,soil_moisture_100_to_255cm,boundary_layer_height,wet_bulb_temperature_2m,total_column_integrated_water_vapour,is_day,sunshine_duration,albedo,snow_depth_water_equivalent\n",
    "    &daily=weather_code,temperature_2m_max,temperature_2m_min,temperature_2m_mean,apparent_temperature_max,apparent_temperature_min,apparent_temperature_mean,sunrise,sunset,daylight_duration,sunshine_duration,precipitation_sum,rain_sum,snowfall_sum,precipitation_hours,wind_speed_10m_max,wind_gusts_10m_max,wind_direction_10m_dominant,shortwave_radiation_sum,et0_fao_evapotranspiration\n",
    "    &wind_speed_unit=ms\n",
    "    &timezone=auto\n",
    "'''.replace('\\n', '').replace(' ', '').replace('\\t', '')\n",
    "\n",
    "'https://archive-api.open-meteo.com/v1/archive?latitude=52.52&longitude=13.41&start_date=2000-02-17&end_date=2025-02-19&hourly=temperature_2m,relative_humidity_2m,dew_point_2m,apparent_temperature,precipitation,rain,snowfall,snow_depth,weather_code,pressure_msl,surface_pressure,cloud_cover,cloud_cover_low,cloud_cover_mid,cloud_cover_high,et0_fao_evapotranspiration,vapour_pressure_deficit,wind_speed_10m,wind_speed_100m,wind_direction_10m,wind_direction_100m,wind_gusts_10m,soil_temperature_0_to_7cm,soil_temperature_7_to_28cm,soil_temperature_28_to_100cm,soil_temperature_100_to_255cm,soil_moisture_0_to_7cm,soil_moisture_7_to_28cm,soil_moisture_28_to_100cm,soil_moisture_100_to_255cm,boundary_layer_height,wet_bulb_temperature_2m,total_column_integrated_water_vapour,is_day,sunshine_duration,albedo,snow_depth_water_equivalent&daily=weather_code,temperature_2m_max,temperature_2m_min,temperature_2m_mean,apparent_temperature_max,apparent_temperature_min,apparent_temperature_mean,sunrise,sunset,daylight_duration,sunshine_duration,precipitation_sum,rain_sum,snowfall_sum,precipitation_hours,wind_speed_10m_max,wind_gusts_10m_max,wind_direction_10m_dominant,shortwave_radiation_sum,et0_fao_evapotranspiration&wind_speed_unit=ms&timezone=auto'\n"
   ]
  },
  {
   "cell_type": "code",
   "execution_count": 6,
   "metadata": {},
   "outputs": [
    {
     "data": {
      "text/plain": [
       "'https://archive-api.open-meteo.com/v1/archive?end_date=2025-02-20&hourly=temperature_2m,relative_humidity_2m,precipitation,wind_speed_10m,wind_direction_10m,wind_speed_100m,wind_direction_100m&latitude=53.98352&longitude=-6.39139&start_date=2000-01-01&wind_speed_unit=ms'"
      ]
     },
     "execution_count": 6,
     "metadata": {},
     "output_type": "execute_result"
    }
   ],
   "source": [
    "from src import WindSpeedUnit, HistoricalHourly, HistoricalAPI\n",
    "import datetime as dt\n",
    "\n",
    "f = HistoricalAPI()\n",
    "dundalk_it = (53.98352, -6.391390) #https://data.mendeley.com/datasets/tm988rs48k/2\n",
    "f.latitude, f.longitude = dundalk_it\n",
    "f.wind_speed_unit = WindSpeedUnit.METERS_PER_SECOND\n",
    "# f.current = [ForecastCurrent.WIND_SPEED_10M, ForecastCurrent.WIND_DIRECTION_10M, ForecastCurrent.TEMPERATURE_2M]\n",
    "f.hourly = [HistoricalHourly.TEMPERATURE_2M,\n",
    "            HistoricalHourly.RELATIVE_HUMIDITY_2M, \n",
    "            HistoricalHourly.PRECIPITATION,\n",
    "            HistoricalHourly.WIND_SPEED_10M,\n",
    "            HistoricalHourly.WIND_DIRECTION_10M,\n",
    "            HistoricalHourly.WIND_SPEED_100M,\n",
    "            HistoricalHourly.WIND_DIRECTION_100M]\n",
    "f.start_date = dt.datetime(2000, 1, 1)\n",
    "f.end_date = dt.datetime(2025, 2, 20) \n",
    "\n",
    "f.build_url()\n",
    "result = f.request()\n"
   ]
  },
  {
   "cell_type": "code",
   "execution_count": 20,
   "metadata": {},
   "outputs": [
    {
     "name": "stdout",
     "output_type": "stream",
     "text": [
      "latitude 53.954304\n",
      "longitude -6.4410095\n",
      "generationtime_ms 9705.280303955078\n",
      "utc_offset_seconds 0\n",
      "timezone GMT\n",
      "timezone_abbreviation GMT\n",
      "elevation 15.0\n",
      "hourly_units ['time', 'temperature_2m', 'relative_humidity_2m', 'precipitation', 'wind_speed_10m', 'wind_direction_10m', 'wind_speed_100m', 'wind_direction_100m']\n",
      "hourly ['time', 'temperature_2m', 'relative_humidity_2m', 'precipitation', 'wind_speed_10m', 'wind_direction_10m', 'wind_speed_100m', 'wind_direction_100m']\n"
     ]
    }
   ],
   "source": [
    "for k,v in result.items():\n",
    "    print(k,end = '')\n",
    "    if isinstance(v, list):\n",
    "        print('',v[:5],end='')\n",
    "    elif isinstance(v, dict):\n",
    "        print('',list(v.keys()),end='')\n",
    "    else:\n",
    "        print('',v,end='')\n",
    "    print()"
   ]
  },
  {
   "cell_type": "code",
   "execution_count": 7,
   "metadata": {},
   "outputs": [],
   "source": [
    "import pandas as pd\n",
    "import sqlite3\n",
    "from copy import deepcopy\n",
    "\n",
    "metadata = dict()\n",
    "response = deepcopy(result)\n",
    "\n",
    "for k,v in result.items():\n",
    "    if not isinstance(v, (list,dict)):\n",
    "        metadata[k] = response.pop(k)\n",
    "\n",
    "df = pd.DataFrame(response['hourly'])\n",
    "for k,v in metadata.items():\n",
    "    if k == 'generationtime_ms':\n",
    "        continue\n",
    "    df[k] = v\n",
    "\n",
    "df = df.dropna()"
   ]
  },
  {
   "cell_type": "code",
   "execution_count": 35,
   "metadata": {},
   "outputs": [],
   "source": [
    "df.to_pickle('historical.pkl')"
   ]
  },
  {
   "cell_type": "code",
   "execution_count": 6,
   "metadata": {},
   "outputs": [],
   "source": [
    "import pandas as pd\n",
    "import sys\n",
    "sys.path.append('../..')\n",
    "import src\n",
    "\n",
    "Raw_df = pd.read_pickle('historical.pkl')\n",
    "df = Raw_df.copy()\n",
    "df.time = pd.to_datetime(df.time,format = '%Y-%m-%dT%H:%M').astype('str')\n",
    "\n",
    "# df.to_csv(src.SOURCE.DATA.str+'//historical_weather_data.csv',index = False)\n"
   ]
  },
  {
   "cell_type": "code",
   "execution_count": 17,
   "metadata": {},
   "outputs": [],
   "source": [
    "import sqlite3\n",
    "\n",
    "'''\n",
    "time                       {'str': 220345}\n",
    "temperature_2m           {'float': 220345}\n",
    "relative_humidity_2m     {'float': 220345}\n",
    "precipitation            {'float': 220345}\n",
    "wind_speed_10m           {'float': 220345}\n",
    "wind_direction_10m       {'float': 220345}\n",
    "wind_speed_100m          {'float': 220345}\n",
    "wind_direction_100m      {'float': 220345}\n",
    "latitude                 {'float': 220345}\n",
    "longitude                {'float': 220345}\n",
    "utc_offset_seconds         {'int': 220345}\n",
    "timezone                   {'str': 220345}\n",
    "timezone_abbreviation      {'str': 220345}\n",
    "elevation                {'float': 220345}\n",
    "'''\n",
    "df = Raw_df.copy()\n",
    "df.time = pd.to_datetime(df.time,format = '%Y-%m-%dT%H:%M').astype('str')\n",
    "df = df.melt(id_vars = 'time latitude longitude utc_offset_seconds timezone timezone_abbreviation elevation'.split(),\n",
    "        value_vars = 'temperature_2m relative_humidity_2m precipitation wind_speed_10m wind_direction_10m wind_speed_100m wind_direction_100m'.split(),\n",
    "        var_name = 'parameter',\n",
    "        value_name = 'value')\n",
    "# make sqlite file with the above fields and datatypes. Table name is historical weather data\n",
    "conn = sqlite3.connect(src.SOURCE.DATA.DB.str)\n",
    "\n",
    "cursor = conn.cursor()\n",
    "# enable Write Ahead Logging (WAL) mode\n",
    "cursor.execute(\"PRAGMA journal_mode=WAL;\")\n",
    "\n",
    "# make if not exists\n",
    "# COMMAND = '''\n",
    "# CREATE TABLE IF NOT EXISTS historical_weather_data (\n",
    "#     ID INTEGER PRIMARY KEY AUTOINCREMENT,\n",
    "#     time TEXT,\n",
    "#     temperature_2m REAL,\n",
    "#     relative_humidity_2m REAL,\n",
    "#     precipitation REAL,\n",
    "#     wind_speed_10m REAL,\n",
    "#     wind_direction_10m REAL,\n",
    "#     wind_speed_100m REAL,\n",
    "#     wind_direction_100m REAL,\n",
    "#     latitude REAL,\n",
    "#     longitude REAL,\n",
    "#     utc_offset_seconds INTEGER,\n",
    "#     timezone TEXT,\n",
    "#     timezone_abbreviation TEXT,\n",
    "#     elevation REAL\n",
    "# );\n",
    "# '''\n",
    "COMMAND = '''\n",
    "CREATE TABLE IF NOT EXISTS hourly_historical_weather_data(\n",
    "    ID INTEGER PRIMARY KEY AUTOINCREMENT,\n",
    "    time TEXT,\n",
    "    latitude REAL,\n",
    "    longitude REAL,\n",
    "    utc_offset_seconds INTEGER,\n",
    "    timezone TEXT,\n",
    "    timezone_abbreviation TEXT,\n",
    "    elevation REAL\n",
    "    parameter TEXT,\n",
    "    value REAL\n",
    ");\n",
    "'''\n",
    "\n",
    "cursor.execute(COMMAND)\n",
    "conn.commit()\n"
   ]
  },
  {
   "cell_type": "code",
   "execution_count": 18,
   "metadata": {},
   "outputs": [
    {
     "data": {
      "text/plain": [
       "1542415"
      ]
     },
     "execution_count": 18,
     "metadata": {},
     "output_type": "execute_result"
    }
   ],
   "source": [
    "df.to_sql('hourly_historical_weather_data', conn, if_exists='replace', index = False)"
   ]
  },
  {
   "cell_type": "code",
   "execution_count": null,
   "metadata": {},
   "outputs": [
    {
     "data": {
      "text/plain": [
       "<Axes: xlabel='time'>"
      ]
     },
     "execution_count": 23,
     "metadata": {},
     "output_type": "execute_result"
    },
    {
     "data": {
      "image/png": "[encoded data removed]",
      "text/plain": [
       "<Figure size 640x480 with 1 Axes>"
      ]
     },
     "metadata": {},
     "output_type": "display_data"
    }
   ],
   "source": []
  }
 ],
 "metadata": {
  "kernelspec": {
   "display_name": "Python 3",
   "language": "python",
   "name": "python3"
  },
  "language_info": {
   "codemirror_mode": {
    "name": "ipython",
    "version": 3
   },
   "file_extension": ".py",
   "mimetype": "text/x-python",
   "name": "python",
   "nbconvert_exporter": "python",
   "pygments_lexer": "ipython3",
   "version": "3.12.9"
  }
 },
 "nbformat": 4,
 "nbformat_minor": 2
}
