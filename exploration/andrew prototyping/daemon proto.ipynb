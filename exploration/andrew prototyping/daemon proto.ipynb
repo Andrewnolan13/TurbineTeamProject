{
 "cells": [
  {
   "cell_type": "code",
   "execution_count": 1,
   "metadata": {},
   "outputs": [
    {
     "name": "stdout",
     "output_type": "stream",
     "text": [
      "Remaining: {'daily': 9275.8, 'hourly': 4744.0, 'minutely': 600}\n",
      "API counts: 1.0\n"
     ]
    }
   ],
   "source": [
    "import sys\n",
    "sys.path.append('../..')\n",
    "from src import WindSpeedUnit, ForecastAPI, ForecastMinutely15\n",
    "import src\n",
    "import datetime as dt\n",
    "\n",
    "f = ForecastAPI()\n",
    "f.latitude, f.longitude = src.GEO_COORDINATES.DUNDALK_IT.value\n",
    "f.wind_speed_unit = WindSpeedUnit.METERS_PER_SECOND\n",
    "f.minutely_15 = [ForecastMinutely15.WIND_SPEED_80M, ForecastMinutely15.WIND_DIRECTION_80M, ForecastMinutely15.TEMPERATURE_2M]\n",
    "f.end_minutely_15 = dt.datetime.now() + dt.timedelta(days=10)\n",
    "f.start_minutely_15 = dt.datetime.now()\n",
    "\n",
    "response = f.request()"
   ]
  },
  {
   "cell_type": "code",
   "execution_count": 2,
   "metadata": {},
   "outputs": [
    {
     "data": {
      "text/html": [
       "<div>\n",
       "<style scoped>\n",
       "    .dataframe tbody tr th:only-of-type {\n",
       "        vertical-align: middle;\n",
       "    }\n",
       "\n",
       "    .dataframe tbody tr th {\n",
       "        vertical-align: top;\n",
       "    }\n",
       "\n",
       "    .dataframe thead th {\n",
       "        text-align: right;\n",
       "    }\n",
       "</style>\n",
       "<table border=\"1\" class=\"dataframe\">\n",
       "  <thead>\n",
       "    <tr style=\"text-align: right;\">\n",
       "      <th></th>\n",
       "      <th>Timestamps</th>\n",
       "      <th>WindSpeed</th>\n",
       "      <th>WindDirAbs</th>\n",
       "      <th>EnvirTemp</th>\n",
       "    </tr>\n",
       "  </thead>\n",
       "  <tbody>\n",
       "    <tr>\n",
       "      <th>0</th>\n",
       "      <td>2025-02-22T22:29</td>\n",
       "      <td>9.84</td>\n",
       "      <td>180.0</td>\n",
       "      <td>6.5</td>\n",
       "    </tr>\n",
       "    <tr>\n",
       "      <th>1</th>\n",
       "      <td>2025-02-22T22:44</td>\n",
       "      <td>10.14</td>\n",
       "      <td>181.0</td>\n",
       "      <td>6.6</td>\n",
       "    </tr>\n",
       "    <tr>\n",
       "      <th>2</th>\n",
       "      <td>2025-02-22T22:59</td>\n",
       "      <td>10.23</td>\n",
       "      <td>182.0</td>\n",
       "      <td>6.7</td>\n",
       "    </tr>\n",
       "    <tr>\n",
       "      <th>3</th>\n",
       "      <td>2025-02-22T23:14</td>\n",
       "      <td>10.04</td>\n",
       "      <td>180.0</td>\n",
       "      <td>6.7</td>\n",
       "    </tr>\n",
       "    <tr>\n",
       "      <th>4</th>\n",
       "      <td>2025-02-22T23:29</td>\n",
       "      <td>9.55</td>\n",
       "      <td>177.0</td>\n",
       "      <td>6.7</td>\n",
       "    </tr>\n",
       "    <tr>\n",
       "      <th>...</th>\n",
       "      <td>...</td>\n",
       "      <td>...</td>\n",
       "      <td>...</td>\n",
       "      <td>...</td>\n",
       "    </tr>\n",
       "    <tr>\n",
       "      <th>956</th>\n",
       "      <td>2025-03-04T21:29</td>\n",
       "      <td>14.10</td>\n",
       "      <td>246.0</td>\n",
       "      <td>7.4</td>\n",
       "    </tr>\n",
       "    <tr>\n",
       "      <th>957</th>\n",
       "      <td>2025-03-04T21:44</td>\n",
       "      <td>14.19</td>\n",
       "      <td>246.0</td>\n",
       "      <td>7.4</td>\n",
       "    </tr>\n",
       "    <tr>\n",
       "      <th>958</th>\n",
       "      <td>2025-03-04T21:59</td>\n",
       "      <td>14.19</td>\n",
       "      <td>246.0</td>\n",
       "      <td>7.4</td>\n",
       "    </tr>\n",
       "    <tr>\n",
       "      <th>959</th>\n",
       "      <td>2025-03-04T22:14</td>\n",
       "      <td>14.29</td>\n",
       "      <td>246.0</td>\n",
       "      <td>7.4</td>\n",
       "    </tr>\n",
       "    <tr>\n",
       "      <th>960</th>\n",
       "      <td>2025-03-04T22:29</td>\n",
       "      <td>14.38</td>\n",
       "      <td>247.0</td>\n",
       "      <td>7.4</td>\n",
       "    </tr>\n",
       "  </tbody>\n",
       "</table>\n",
       "<p>961 rows × 4 columns</p>\n",
       "</div>"
      ],
      "text/plain": [
       "           Timestamps  WindSpeed  WindDirAbs  EnvirTemp\n",
       "0    2025-02-22T22:29       9.84       180.0        6.5\n",
       "1    2025-02-22T22:44      10.14       181.0        6.6\n",
       "2    2025-02-22T22:59      10.23       182.0        6.7\n",
       "3    2025-02-22T23:14      10.04       180.0        6.7\n",
       "4    2025-02-22T23:29       9.55       177.0        6.7\n",
       "..                ...        ...         ...        ...\n",
       "956  2025-03-04T21:29      14.10       246.0        7.4\n",
       "957  2025-03-04T21:44      14.19       246.0        7.4\n",
       "958  2025-03-04T21:59      14.19       246.0        7.4\n",
       "959  2025-03-04T22:14      14.29       246.0        7.4\n",
       "960  2025-03-04T22:29      14.38       247.0        7.4\n",
       "\n",
       "[961 rows x 4 columns]"
      ]
     },
     "execution_count": 2,
     "metadata": {},
     "output_type": "execute_result"
    }
   ],
   "source": [
    "import pandas as pd\n",
    "\n",
    "df = pd.DataFrame(response['minutely_15'])\n",
    "df.rename(columns = {'time':'Timestamps','wind_speed_80m':'WindSpeed','wind_direction_80m':'WindDirAbs','temperature_2m':'EnvirTemp'}, inplace = True)\n",
    "df = df[['Timestamps','WindSpeed','WindDirAbs','EnvirTemp']]\n",
    "\n",
    "df.Timestamps = df.Timestamps.astype('str')\n",
    "df.WindSpeed = df.WindSpeed.astype('float')\n",
    "df.WindDirAbs = df.WindDirAbs.astype('float')\n",
    "df.EnvirTemp = df.EnvirTemp.astype('float')\n",
    "\n",
    "df"
   ]
  },
  {
   "cell_type": "code",
   "execution_count": 6,
   "metadata": {},
   "outputs": [],
   "source": [
    "from src.daemon import ForecastDaemon\n",
    "\n",
    "daemon = ForecastDaemon()"
   ]
  },
  {
   "cell_type": "code",
   "execution_count": 7,
   "metadata": {},
   "outputs": [
    {
     "name": "stdout",
     "output_type": "stream",
     "text": [
      "Remaining: {'daily': 9274.8, 'hourly': 4743.0, 'minutely': 599.0}\n",
      "API counts: 1.0\n",
      "Remaining: {'daily': 9273.8, 'hourly': 4742.0, 'minutely': 598.0}\n",
      "API counts: 1.0\n",
      "Remaining: {'daily': 9272.8, 'hourly': 4741.0, 'minutely': 597.0}\n",
      "API counts: 1.0\n",
      "Remaining: {'daily': 9271.8, 'hourly': 4740.0, 'minutely': 596.0}\n",
      "API counts: 1.0\n",
      "Remaining: {'daily': 9270.8, 'hourly': 4739.0, 'minutely': 595.0}\n",
      "API counts: 1.0\n",
      "Remaining: {'daily': 9269.8, 'hourly': 4738.0, 'minutely': 594.0}\n",
      "API counts: 1.0\n",
      "Remaining: {'daily': 9268.8, 'hourly': 4737.0, 'minutely': 593.0}\n",
      "API counts: 1.0\n"
     ]
    }
   ],
   "source": [
    "daemon.start()"
   ]
  },
  {
   "cell_type": "code",
   "execution_count": 9,
   "metadata": {},
   "outputs": [],
   "source": [
    "daemon.stop()"
   ]
  },
  {
   "cell_type": "code",
   "execution_count": 80,
   "metadata": {},
   "outputs": [],
   "source": [
    "from src.weather.utils import ApiCounter, RequestLogger\n",
    "ApiCounter.calculate_call_weight_from_url(f.build_url())\n",
    "requestRemaining = RequestLogger.queryRemaining(f._conn)"
   ]
  },
  {
   "cell_type": "code",
   "execution_count": 90,
   "metadata": {},
   "outputs": [
    {
     "data": {
      "text/plain": [
       "0.7562055435489625"
      ]
     },
     "execution_count": 90,
     "metadata": {},
     "output_type": "execute_result"
    }
   ],
   "source": [
    "def secondsTillEndOf(t:str):\n",
    "    if t == 'minutely':\n",
    "        return 60 - dt.datetime.now().second\n",
    "    if t == 'hourly':\n",
    "        return 3600 - dt.datetime.now().minute*60 - dt.datetime.now().second\n",
    "    if t == 'daily':\n",
    "        return 86400 - dt.datetime.now().hour*3600 - dt.datetime.now().minute*60 - dt.datetime.now().second\n",
    "    else:\n",
    "        raise ValueError('Invalid time unit. Must be minutely, hourly or daily')\n",
    "\n",
    "secondsRemaining = {k:secondsTillEndOf(k) for k in ['minutely','hourly','daily']}\n",
    "requestRemaining = {'daily': 9531.8, 'hourly': 5000, 'minutely': 600}\n",
    "\n",
    "sleepTimes = {k:secondsRemaining[k]/requestRemaining[k] for k in ['minutely','hourly','daily']}\n",
    "sleepTime = max(sleepTimes.values())\n",
    "sleepTime"
   ]
  },
  {
   "cell_type": "code",
   "execution_count": 10,
   "metadata": {},
   "outputs": [
    {
     "data": {
      "text/html": [
       "<div>\n",
       "<style scoped>\n",
       "    .dataframe tbody tr th:only-of-type {\n",
       "        vertical-align: middle;\n",
       "    }\n",
       "\n",
       "    .dataframe tbody tr th {\n",
       "        vertical-align: top;\n",
       "    }\n",
       "\n",
       "    .dataframe thead th {\n",
       "        text-align: right;\n",
       "    }\n",
       "</style>\n",
       "<table border=\"1\" class=\"dataframe\">\n",
       "  <thead>\n",
       "    <tr style=\"text-align: right;\">\n",
       "      <th></th>\n",
       "      <th>Timestamps</th>\n",
       "      <th>WindSpeed</th>\n",
       "      <th>WindDirAbs</th>\n",
       "      <th>EnvirTemp</th>\n",
       "      <th>PowerPrediction</th>\n",
       "    </tr>\n",
       "  </thead>\n",
       "  <tbody>\n",
       "    <tr>\n",
       "      <th>0</th>\n",
       "      <td>2025-02-22T22:29</td>\n",
       "      <td>9.84</td>\n",
       "      <td>180.0</td>\n",
       "      <td>6.5</td>\n",
       "      <td>506.204742</td>\n",
       "    </tr>\n",
       "    <tr>\n",
       "      <th>1</th>\n",
       "      <td>2025-02-22T22:44</td>\n",
       "      <td>10.14</td>\n",
       "      <td>181.0</td>\n",
       "      <td>6.6</td>\n",
       "      <td>542.271851</td>\n",
       "    </tr>\n",
       "    <tr>\n",
       "      <th>2</th>\n",
       "      <td>2025-02-22T22:59</td>\n",
       "      <td>10.23</td>\n",
       "      <td>182.0</td>\n",
       "      <td>6.7</td>\n",
       "      <td>553.066406</td>\n",
       "    </tr>\n",
       "    <tr>\n",
       "      <th>3</th>\n",
       "      <td>2025-02-22T23:14</td>\n",
       "      <td>10.04</td>\n",
       "      <td>180.0</td>\n",
       "      <td>6.7</td>\n",
       "      <td>530.003479</td>\n",
       "    </tr>\n",
       "    <tr>\n",
       "      <th>4</th>\n",
       "      <td>2025-02-22T23:29</td>\n",
       "      <td>9.55</td>\n",
       "      <td>177.0</td>\n",
       "      <td>6.7</td>\n",
       "      <td>470.738129</td>\n",
       "    </tr>\n",
       "    <tr>\n",
       "      <th>...</th>\n",
       "      <td>...</td>\n",
       "      <td>...</td>\n",
       "      <td>...</td>\n",
       "      <td>...</td>\n",
       "      <td>...</td>\n",
       "    </tr>\n",
       "    <tr>\n",
       "      <th>956</th>\n",
       "      <td>2025-03-04T21:29</td>\n",
       "      <td>14.10</td>\n",
       "      <td>246.0</td>\n",
       "      <td>7.4</td>\n",
       "      <td>762.623840</td>\n",
       "    </tr>\n",
       "    <tr>\n",
       "      <th>957</th>\n",
       "      <td>2025-03-04T21:44</td>\n",
       "      <td>14.19</td>\n",
       "      <td>246.0</td>\n",
       "      <td>7.4</td>\n",
       "      <td>762.085876</td>\n",
       "    </tr>\n",
       "    <tr>\n",
       "      <th>958</th>\n",
       "      <td>2025-03-04T21:59</td>\n",
       "      <td>14.19</td>\n",
       "      <td>246.0</td>\n",
       "      <td>7.4</td>\n",
       "      <td>762.085876</td>\n",
       "    </tr>\n",
       "    <tr>\n",
       "      <th>959</th>\n",
       "      <td>2025-03-04T22:14</td>\n",
       "      <td>14.29</td>\n",
       "      <td>246.0</td>\n",
       "      <td>7.4</td>\n",
       "      <td>761.488098</td>\n",
       "    </tr>\n",
       "    <tr>\n",
       "      <th>960</th>\n",
       "      <td>2025-03-04T22:29</td>\n",
       "      <td>14.38</td>\n",
       "      <td>247.0</td>\n",
       "      <td>7.4</td>\n",
       "      <td>763.259338</td>\n",
       "    </tr>\n",
       "  </tbody>\n",
       "</table>\n",
       "<p>961 rows × 5 columns</p>\n",
       "</div>"
      ],
      "text/plain": [
       "           Timestamps  WindSpeed  WindDirAbs  EnvirTemp  PowerPrediction\n",
       "0    2025-02-22T22:29       9.84       180.0        6.5       506.204742\n",
       "1    2025-02-22T22:44      10.14       181.0        6.6       542.271851\n",
       "2    2025-02-22T22:59      10.23       182.0        6.7       553.066406\n",
       "3    2025-02-22T23:14      10.04       180.0        6.7       530.003479\n",
       "4    2025-02-22T23:29       9.55       177.0        6.7       470.738129\n",
       "..                ...        ...         ...        ...              ...\n",
       "956  2025-03-04T21:29      14.10       246.0        7.4       762.623840\n",
       "957  2025-03-04T21:44      14.19       246.0        7.4       762.085876\n",
       "958  2025-03-04T21:59      14.19       246.0        7.4       762.085876\n",
       "959  2025-03-04T22:14      14.29       246.0        7.4       761.488098\n",
       "960  2025-03-04T22:29      14.38       247.0        7.4       763.259338\n",
       "\n",
       "[961 rows x 5 columns]"
      ]
     },
     "execution_count": 10,
     "metadata": {},
     "output_type": "execute_result"
    }
   ],
   "source": [
    "pd.read_sql('SELECT * FROM real_time_predictions', f._conn)\n"
   ]
  },
  {
   "cell_type": "code",
   "execution_count": null,
   "metadata": {},
   "outputs": [
    {
     "data": {
      "text/plain": [
       "331"
      ]
     },
     "execution_count": 14,
     "metadata": {},
     "output_type": "execute_result"
    }
   ],
   "source": []
  },
  {
   "cell_type": "code",
   "execution_count": null,
   "metadata": {},
   "outputs": [
    {
     "data": {
      "text/plain": [
       "59"
      ]
     },
     "execution_count": 78,
     "metadata": {},
     "output_type": "execute_result"
    }
   ],
   "source": []
  },
  {
   "cell_type": "code",
   "execution_count": null,
   "metadata": {},
   "outputs": [],
   "source": []
  }
 ],
 "metadata": {
  "kernelspec": {
   "display_name": "Python 3",
   "language": "python",
   "name": "python3"
  },
  "language_info": {
   "codemirror_mode": {
    "name": "ipython",
    "version": 3
   },
   "file_extension": ".py",
   "mimetype": "text/x-python",
   "name": "python",
   "nbconvert_exporter": "python",
   "pygments_lexer": "ipython3",
   "version": "3.12.9"
  }
 },
 "nbformat": 4,
 "nbformat_minor": 2
}
